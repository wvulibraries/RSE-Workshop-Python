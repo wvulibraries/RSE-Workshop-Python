{
 "cells": [
  {
   "cell_type": "markdown",
   "id": "bd403cf7-bb53-41cf-95e5-91dd12bcb262",
   "metadata": {},
   "source": [
    "<h1>Visualize your Data</h1>"
   ]
  },
  {
   "cell_type": "markdown",
   "id": "2dedece4-3b05-4a47-982c-30ded170ff42",
   "metadata": {},
   "source": [
    "<h3>Data Visualization Libraries</h3>\n",
    "<p>\n",
    "    <ul>\n",
    "        <li><a href=\"https://matplotlib.org/\" target =\"_blank\">MatPlotLib</a> - General-purpose plotting</li>\n",
    "        <li><a href=\"https://seaborn.pydata.org/\" target =\"_blank\">Seaborn</a> - Statistical graphics and beautiful themes</li>\n",
    "        <li><a href = \"https://plotly.com/python/\" target =\"_blank\">Plotly</a> - Interactive and web-based plots</li>\n",
    "        <li><a href=\"https://geopandas.org/en/stable/index.html\" target =\"_blank\">Geopandas</a> - Geospatial data visualization</li>\n",
    "    </ul>\n",
    "</p>"
   ]
  },
  {
   "cell_type": "code",
   "execution_count": null,
   "id": "8d6e93c9-53ef-4201-8259-d2d066d9d08a",
   "metadata": {},
   "outputs": [],
   "source": [
    "#load pandas\n",
    "\n",
    "import pandas as pd\n",
    "import seaborn as sns\n",
    "import matplotlib.pyplot as plt\n",
    "import matplotlib.dates as mdates"
   ]
  },
  {
   "cell_type": "markdown",
   "id": "ff70ba15-e112-4c55-8436-358aa8dacc10",
   "metadata": {},
   "source": [
    "<h3>Data</h3>"
   ]
  },
  {
   "cell_type": "code",
   "execution_count": null,
   "id": "efe0cd22-1960-44fa-9869-b1e5fee25f8e",
   "metadata": {},
   "outputs": [],
   "source": [
    "scotus = pd.read_csv(\"scotus_approval.csv\")\n",
    "\n",
    "# set datatime\n",
    "scotus[\"date\"] = pd.to_datetime(scotus[\"date\"])"
   ]
  },
  {
   "cell_type": "code",
   "execution_count": null,
   "id": "dd233022-f838-4fed-8cdd-0a022c519747",
   "metadata": {},
   "outputs": [],
   "source": [
    "# filter pollster to YouGov\n",
    "\n",
    "scotus = scotus[scotus[\"pollster\"] == \"YouGov\"]\n",
    "scotus"
   ]
  },
  {
   "cell_type": "markdown",
   "id": "9fbfbff0-9f35-4e70-b2bb-b4ee252ce55a",
   "metadata": {},
   "source": [
    "### Line Chart"
   ]
  },
  {
   "cell_type": "code",
   "execution_count": null,
   "id": "0432884b-c411-42ac-ae20-a66f3c329907",
   "metadata": {},
   "outputs": [],
   "source": [
    "#plot a line chart of date and per_yes\n",
    "\n",
    "scotus.plot(x=\"date\", y=\"per_yes\")\n",
    "\n",
    "plt.show()"
   ]
  },
  {
   "cell_type": "code",
   "execution_count": null,
   "id": "d3a19cac-eade-455a-9f45-67d781ddcca4",
   "metadata": {},
   "outputs": [],
   "source": [
    "scotus = scotus.sort_values(by='date', ascending=True)"
   ]
  },
  {
   "cell_type": "code",
   "execution_count": null,
   "id": "65647a17-a9ea-4332-9fbe-438f115b1de5",
   "metadata": {},
   "outputs": [],
   "source": [
    "# set date and per_yes \n",
    "\n",
    "scotus.plot(x=\"date\", y=\"per_yes\")\n",
    "\n",
    "# Show the plot\n",
    "plt.show()"
   ]
  },
  {
   "cell_type": "code",
   "execution_count": null,
   "id": "0481cb8e-5b59-4647-aa22-f4d726b837d7",
   "metadata": {},
   "outputs": [],
   "source": [
    "# Change line color and size\n",
    "scotus.plot(\n",
    "    x='date',\n",
    "    y='per_yes',\n",
    "    color= 'coral',\n",
    "    linewidth= 3 #default is 1.5\n",
    ")\n",
    "\n",
    "plt.show()"
   ]
  },
  {
   "cell_type": "code",
   "execution_count": null,
   "id": "b47400e7-131e-4f47-b13c-f298866c095c",
   "metadata": {},
   "outputs": [],
   "source": [
    "# Change line color and size\n",
    "scotus.plot(\n",
    "    x='date',\n",
    "    y='per_yes',\n",
    "    color= 'coral',\n",
    "    linewidth= 3\n",
    ")\n",
    "\n",
    "#Add information to plot\n",
    "plt.title(\"SCOTUS Approval in 2023\", loc=\"left\")\n",
    "plt.suptitle(\"polls from YouGov\", y=0, color=\"gray\")\n",
    "plt.ylabel(\"Approval\")\n",
    "\n",
    "plt.show()"
   ]
  },
  {
   "cell_type": "code",
   "execution_count": null,
   "id": "265e0cd0-54c3-430c-89c0-293fe72ef33e",
   "metadata": {},
   "outputs": [],
   "source": [
    "sns.set_theme(style=\"whitegrid\")\n",
    "\n",
    "#sns.set_theme(style=\"white\")\n",
    "\n",
    "\n",
    "scotus.plot(\n",
    "    x='date',\n",
    "    y='per_yes',\n",
    "    color= 'coral',\n",
    "    linewidth= 3 #default is 1.5\n",
    ")\n",
    "\n",
    "plt.title(\"SCOTUS Approval in 2023\", loc=\"left\")\n",
    "plt.suptitle(\"polls from YouGov\", y=0, color=\"gray\")\n",
    "plt.ylabel(\"Approval\")\n",
    "\n",
    "#sns.despine(left=True, bottom=True, right=True, top=True)\n",
    "\n",
    "plt.show()"
   ]
  },
  {
   "cell_type": "code",
   "execution_count": null,
   "id": "346d9759-fe18-4a4d-a822-8c2a2dd57609",
   "metadata": {},
   "outputs": [],
   "source": [
    "scotus.plot(\n",
    "    x='date',\n",
    "    y='per_yes',\n",
    "    color= 'coral',\n",
    "    linewidth= 3\n",
    ")\n",
    "\n",
    "plt.title(\"SCOTUS Approval in 2023\", loc=\"left\")\n",
    "plt.suptitle(\"polls from YouGov\", y=0, color=\"gray\")\n",
    "plt.ylabel(\"Approval\")\n",
    "\n",
    "sns.despine(left=True, bottom=True, right=True, top=True)\n",
    "\n",
    "ax = plt.gca()\n",
    "ax.xaxis.set_major_locator(mdates.WeekdayLocator(interval=6))\n",
    "ax.xaxis.set_major_formatter(mdates.DateFormatter(\"%b %d\"))\n",
    "\n",
    "plt.show()"
   ]
  },
  {
   "cell_type": "markdown",
   "id": "4560e858-d1d2-4236-8877-e9dd3653cdcb",
   "metadata": {},
   "source": [
    "#### 🗓️ Date-related directives\n",
    "\n",
    "| Code | Meaning | Example |\n",
    "|------|----------|----------|\n",
    "| `%Y` | 4-digit year | 2025 |\n",
    "| `%y` | 2-digit year | 25 |\n",
    "| `%m` | Month number (01–12) | 10 |\n",
    "| `%B` | Full month name | October |\n",
    "| `%b` | Abbreviated month name | Oct |\n",
    "| `%d` | Day of the month (01–31) | 15 |\n",
    "| `%a` | Abbreviated weekday name | Wed |\n",
    "| `%A` | Full weekday name | Wednesday |\n",
    "| `%w` | Weekday number (0=Sunday, 6=Saturday) | 3 |\n",
    "| `%j` | Day of year (001–366) | 288 |\n"
   ]
  },
  {
   "cell_type": "code",
   "execution_count": null,
   "id": "f3f8c62d-4647-4443-9f88-62a7caecc436",
   "metadata": {},
   "outputs": [],
   "source": [
    "scotus.plot(\n",
    "    x='date',\n",
    "    y='per_yes',\n",
    "    color= 'coral',\n",
    "    linewidth= 3\n",
    ")\n",
    "\n",
    "plt.title(\"SCOTUS Approval in 2023\", loc=\"left\")\n",
    "plt.suptitle(\"polls from YouGov\", y=0, color=\"gray\")\n",
    "plt.ylabel(\"Approval\")\n",
    "\n",
    "sns.despine(left=True, bottom=True, right=True, top=True)\n",
    "\n",
    "ax = plt.gca()\n",
    "ax.xaxis.set_major_locator(mdates.MonthLocator(interval=1)) \n",
    "ax.xaxis.set_major_formatter(mdates.DateFormatter(\"%b %Y\"))\n",
    "\n",
    "plt.show()"
   ]
  },
  {
   "cell_type": "code",
   "execution_count": null,
   "id": "1d05ee5d-7b76-439a-ac9c-23b50fde8f66",
   "metadata": {},
   "outputs": [],
   "source": [
    "scotus.plot(\n",
    "    x='date',\n",
    "    y='per_yes',\n",
    "    color= 'coral',\n",
    "    linewidth= 3\n",
    ")\n",
    "\n",
    "plt.title(\"SCOTUS Approval in 2023\", loc=\"left\")\n",
    "plt.suptitle(\"polls from YouGov\", y=0, color=\"gray\")\n",
    "plt.ylabel(\"Approval\")\n",
    "\n",
    "sns.despine(left=True, bottom=True, right=True, top=True)\n",
    "\n",
    "ax = plt.gca()\n",
    "ax.xaxis.set_major_locator(mdates.MonthLocator(interval=3))\n",
    "ax.xaxis.set_major_formatter(mdates.DateFormatter(\"%b %Y\"))\n",
    "\n",
    "plt.show()"
   ]
  },
  {
   "cell_type": "code",
   "execution_count": null,
   "id": "e37b094f-c3fd-4bce-816b-46060cfe43b3",
   "metadata": {},
   "outputs": [],
   "source": [
    "from statsmodels.nonparametric.smoothers_lowess import lowess\n",
    "\n",
    "scotus[\"date_num\"] = scotus[\"date\"].map(pd.Timestamp.toordinal)\n",
    "\n",
    "# Apply LOWESS smoothing\n",
    "smoothed = lowess(scotus[\"per_yes\"], scotus[\"date_num\"], frac=0.3)\n",
    "\n",
    "plt.plot(scotus[\"date\"], smoothed[:, 1], color=\"coral\", linewidth=3)\n",
    "\n",
    "plt.title(\"SCOTUS Approval in 2023\", loc=\"left\")\n",
    "plt.suptitle(\"polls from YouGov\", y=0, color=\"gray\")\n",
    "plt.ylabel(\"Approval\")\n",
    "\n",
    "sns.despine(left=True, bottom=True, right=True, top=True)\n",
    "\n",
    "ax = plt.gca()\n",
    "ax.xaxis.set_major_locator(mdates.WeekdayLocator(interval=6))\n",
    "ax.xaxis.set_major_formatter(mdates.DateFormatter(\"%b %d\"))\n",
    "\n",
    "plt.show()"
   ]
  },
  {
   "cell_type": "markdown",
   "id": "3ee52b96-702b-4df5-9336-8c82cb9d7073",
   "metadata": {},
   "source": [
    "### Histograms\n",
    "Histograms allow you to see the distribution of a continuous (dbl or num) variable"
   ]
  },
  {
   "cell_type": "code",
   "execution_count": null,
   "id": "3cd32d7f-b714-43e7-9304-5ec698987968",
   "metadata": {},
   "outputs": [],
   "source": [
    "demo = pd.read_csv('demographics.csv')"
   ]
  },
  {
   "cell_type": "code",
   "execution_count": null,
   "id": "1b6d91e0-1c9c-4c95-a884-8038c86f11e2",
   "metadata": {},
   "outputs": [],
   "source": [
    "sns.histplot(data=demo, x=\"age\", bins=30)"
   ]
  },
  {
   "cell_type": "markdown",
   "id": "f525617f-9048-474a-a969-43c11c0345db",
   "metadata": {},
   "source": [
    "#### Binning\n",
    "the binning argument allows you to group continuous data into discrete intervals or bins"
   ]
  },
  {
   "cell_type": "code",
   "execution_count": null,
   "id": "f2987a15-bc51-40ef-b3a0-3dcd78801469",
   "metadata": {},
   "outputs": [],
   "source": [
    "sns.histplot(data=demo, x=\"age\", bins=10)"
   ]
  },
  {
   "cell_type": "code",
   "execution_count": null,
   "id": "4fe244dd-f08a-4703-a030-162e09de86d0",
   "metadata": {},
   "outputs": [],
   "source": [
    "sns.histplot(data=demo, x=\"age\", binwidth=15)"
   ]
  },
  {
   "cell_type": "markdown",
   "id": "fbe8d061-ce95-415a-ab0b-b598fc61d3bf",
   "metadata": {},
   "source": [
    "#### Additional optimizations"
   ]
  },
  {
   "cell_type": "code",
   "execution_count": null,
   "id": "012d363f-5f0d-4160-90d9-1e701d0867ad",
   "metadata": {},
   "outputs": [],
   "source": [
    "sns.histplot(\n",
    "    data=demo, \n",
    "    x=\"age\", \n",
    "    bins=25,\n",
    "    edgecolor = 'coral',\n",
    "    color = 'skyblue',\n",
    "    alpha=0.5\n",
    ")"
   ]
  },
  {
   "cell_type": "code",
   "execution_count": null,
   "id": "74d3254f-5b70-40d7-8531-62a8a8a74808",
   "metadata": {},
   "outputs": [],
   "source": [
    "sns.histplot(\n",
    "    data=demo, \n",
    "    x=\"age\", \n",
    "    binwidth=1,\n",
    "    color = 'skyblue',\n",
    "    alpha=0.8\n",
    ")\n",
    "\n",
    "plt.title(\"Count of Population at Each Age\", fontsize = 14, loc=\"left\", color = 'navy')\n",
    "plt.xlabel(\"Age\", fontsize=12)\n",
    "plt.ylabel(\"Count\", fontsize=12) \n",
    "\n",
    "plt.show()"
   ]
  },
  {
   "cell_type": "code",
   "execution_count": null,
   "id": "f472282e-58d0-4100-a5ee-cc0f74544401",
   "metadata": {},
   "outputs": [],
   "source": [
    "# Create a 1x3 layout\n",
    "fig, axes = plt.subplots(1, 3, figsize=(15, 5))\n",
    "#sharey=True\n",
    "\n",
    "# Histogram 1 — binwidth = 1\n",
    "sns.histplot(\n",
    "    data=demo,\n",
    "    x=\"age\",\n",
    "    binwidth=1,\n",
    "    color=\"skyblue\",\n",
    "    alpha=0.8,\n",
    "    ax=axes[0]\n",
    ")\n",
    "axes[0].set_title(\"Binwidth = 1\", fontsize=14, loc=\"left\", color=\"navy\")\n",
    "axes[0].set_xlabel(\"Age\", fontsize=12)\n",
    "axes[0].set_ylabel(\"Count\", fontsize=12)\n",
    "\n",
    "# Histogram 2 — binwidth = 5\n",
    "sns.histplot(\n",
    "    data=demo,\n",
    "    x=\"age\",\n",
    "    binwidth=5,\n",
    "    color=\"skyblue\",\n",
    "    alpha=0.8,\n",
    "    ax=axes[1]\n",
    ")\n",
    "axes[1].set_title(\"Binwidth = 5\", fontsize=14, loc=\"left\", color=\"navy\")\n",
    "axes[1].set_xlabel(\"Age\", fontsize=12)\n",
    "axes[1].set_ylabel(\"\")\n",
    "\n",
    "# Histogram 3 — binwidth = 10\n",
    "sns.histplot(\n",
    "    data=demo,\n",
    "    x=\"age\",\n",
    "    binwidth=10,\n",
    "    color=\"skyblue\",\n",
    "    alpha=0.8,\n",
    "    ax=axes[2]\n",
    ")\n",
    "axes[2].set_title(\"Binwidth = 10\", fontsize=14, loc=\"left\", color=\"navy\")\n",
    "axes[2].set_xlabel(\"Age\", fontsize=12)\n",
    "axes[2].set_ylabel(\"\")\n",
    "\n",
    "# Adjust layout spacing\n",
    "plt.tight_layout()\n",
    "plt.show()\n"
   ]
  },
  {
   "cell_type": "markdown",
   "id": "6af3ec63-f5a1-4618-a20c-879f5dab6d10",
   "metadata": {},
   "source": [
    "### Multiple plots\n",
    "\n",
    "We can add multiple plots into a plot by adding their own element"
   ]
  },
  {
   "cell_type": "code",
   "execution_count": null,
   "id": "b9971717-2d40-4b1c-9288-69c2ccfa8a8d",
   "metadata": {},
   "outputs": [],
   "source": [
    "sns.histplot(\n",
    "    data=demo, \n",
    "    x=\"age\", \n",
    "    bins=25,\n",
    "    edgecolor = 'coral',\n",
    "    color = 'skyblue',\n",
    "    alpha=0.5\n",
    ")\n",
    "\n",
    "plt.axvline(\n",
    "    x=40,               # position\n",
    "    color='navy',       # line color\n",
    "    linewidth=2,        # line thickness\n",
    "    linestyle='-'      # optional: dashed style\n",
    ")\n",
    "\n",
    "\n",
    "plt.show()"
   ]
  },
  {
   "cell_type": "markdown",
   "id": "9bb8231f-2ae9-4650-afa6-053c9c3afbbe",
   "metadata": {},
   "source": [
    "### Faceting\n",
    "\n",
    "The sns.displot() allows you to break your plot out by categorical variables"
   ]
  },
  {
   "cell_type": "code",
   "execution_count": null,
   "id": "c847b833-778f-46de-b90b-04bddbfaff98",
   "metadata": {},
   "outputs": [],
   "source": [
    "# Create faceted histogram by 'inccat'\n",
    "g = sns.displot(\n",
    "    data=demo,\n",
    "    x=\"age\",\n",
    "    col=\"inccat\",\n",
    "    col_wrap=2,\n",
    "    bins=25,\n",
    "    color=\"skyblue\",\n",
    "    edgecolor=\"coral\",\n",
    "    alpha=0.5\n",
    ")\n",
    "\n",
    "for ax in g.axes.flatten():\n",
    "    ax.axvline(x=40, color=\"navy\", linewidth=3)\n",
    "\n",
    "plt.show()"
   ]
  },
  {
   "cell_type": "markdown",
   "id": "7795a32d-d4cc-4c04-a1e9-7ca88780ba7c",
   "metadata": {},
   "source": [
    "### Bar Graph\n",
    "The sns.countplot() function allows you create a bar chart uses the number of cases of each group in a categorical variable"
   ]
  },
  {
   "cell_type": "code",
   "execution_count": null,
   "id": "bdeb80c8-140e-4aa0-9ad2-f65eb5601339",
   "metadata": {},
   "outputs": [],
   "source": [
    "sns.countplot(\n",
    "    data=demo, \n",
    "    x=\"carcat\", \n",
    "    order=sorted(demo['carcat'].unique())\n",
    ")\n",
    "\n",
    "plt.show()"
   ]
  },
  {
   "cell_type": "markdown",
   "id": "6dcea720-97cc-41f5-823c-7d7d9a005ba1",
   "metadata": {},
   "source": [
    "The sns.barplot() allows you to create a bar plot using a categorical and continuous variable"
   ]
  },
  {
   "cell_type": "code",
   "execution_count": null,
   "id": "c719fb2f-39d8-4e2b-bd1b-151e996d65c7",
   "metadata": {},
   "outputs": [],
   "source": [
    "sns.barplot(\n",
    "    data=demo,\n",
    "    x=\"carcat\",\n",
    "    y=\"income\",\n",
    "    estimator=sum,   # aggregate income by sum (default = mean)\n",
    "    color=\"skyblue\",\n",
    "    order=sorted(demo['carcat'].unique()),\n",
    "    errorbar=None\n",
    ")\n",
    "\n",
    "plt.show()"
   ]
  },
  {
   "cell_type": "markdown",
   "id": "4a2f2aa9-b99c-444f-8048-fdff97b996fa",
   "metadata": {},
   "source": [
    "### Reorder Plot\n",
    "\n",
    "You can order the bar plots using the order you defined seperately"
   ]
  },
  {
   "cell_type": "code",
   "execution_count": null,
   "id": "90c08509-1c2f-4b10-8714-c1bf3e4b063a",
   "metadata": {},
   "outputs": [],
   "source": [
    "demo.groupby(\"carcat\")[\"income\"].sum().sort_values()"
   ]
  },
  {
   "cell_type": "code",
   "execution_count": null,
   "id": "07cd4576-3340-44a6-9170-9876ac15d94b",
   "metadata": {},
   "outputs": [],
   "source": [
    "order=demo.groupby(\"carcat\")[\"income\"].sum().sort_values().index\n",
    "\n",
    "sns.barplot(\n",
    "    data=demo,\n",
    "    x=\"carcat\",\n",
    "    y=\"income\",\n",
    "    estimator=sum,  \n",
    "    color=\"skyblue\",\n",
    "    order=order,\n",
    "    errorbar=None\n",
    ")\n",
    "\n",
    "plt.show()"
   ]
  },
  {
   "cell_type": "markdown",
   "id": "bb8ee90d-42d5-487d-9056-3708fea9e11b",
   "metadata": {},
   "source": [
    "### Stacked Bar Plot\n",
    "\n",
    "You can the argument *stacked=True* to map an additional variable onto individual bars"
   ]
  },
  {
   "cell_type": "code",
   "execution_count": null,
   "id": "f1572b02-34d1-4c86-8c91-0c21c46eafe1",
   "metadata": {},
   "outputs": [],
   "source": [
    "stacked_data = demo.groupby([\"carcat\", \"ed\"])[\"income\"].sum().unstack()\n",
    "stacked_data"
   ]
  },
  {
   "cell_type": "code",
   "execution_count": null,
   "id": "ed5a627d-ce58-4fe9-89a8-f766178ac43a",
   "metadata": {},
   "outputs": [],
   "source": [
    "order=stacked_data.sum(axis=1).sort_values().index\n",
    "print(order)\n",
    "\n",
    "#reorder rows\n",
    "stacked_data = stacked_data.loc[order]\n",
    "stacked_data"
   ]
  },
  {
   "cell_type": "code",
   "execution_count": null,
   "id": "a3582450-d777-4f31-88b6-e47180c39b36",
   "metadata": {},
   "outputs": [],
   "source": [
    "stacked_data.plot(\n",
    "    kind=\"bar\",\n",
    "    stacked=True,\n",
    "    color=sns.color_palette(\"pastel\", n_colors=len(stacked_data.columns))\n",
    ")\n",
    "\n",
    "plt.title(\"Total Income by Car Category and Education Level\", loc=\"left\", color=\"navy\")\n",
    "plt.xlabel(\"Car Category\", fontsize=12)\n",
    "plt.ylabel(\"Total Income\", fontsize=12)\n",
    "plt.legend(title=\"Education Level\")\n",
    "plt.xticks(rotation=0)\n",
    "\n",
    "#plt.tight_layout()\n",
    "plt.show()"
   ]
  },
  {
   "cell_type": "code",
   "execution_count": null,
   "id": "0dfa4e3e-884b-418d-ba1b-ef7534a6fd84",
   "metadata": {},
   "outputs": [],
   "source": [
    "# Example aggregation (sum of income + count of rows)\n",
    "agg_data = (\n",
    "    demo.groupby([\"carcat\", \"ed\"])\n",
    "    .agg(\n",
    "        total_income=(\"income\", \"sum\"),\n",
    "        count=(\"income\", \"size\")\n",
    "    )\n",
    "    .reset_index()\n",
    ")\n",
    "\n",
    "order = agg_data.groupby(\"carcat\")[\"total_income\"].sum().sort_values().index"
   ]
  },
  {
   "cell_type": "code",
   "execution_count": null,
   "id": "aeeab81b-d4d5-4419-b8f3-2b93c6265e30",
   "metadata": {},
   "outputs": [],
   "source": [
    "agg_data"
   ]
  },
  {
   "cell_type": "code",
   "execution_count": null,
   "id": "4f52e302-9a20-44c1-8493-06e22de0f651",
   "metadata": {},
   "outputs": [],
   "source": [
    "import plotly.express as px\n",
    "\n",
    "fig = px.bar(\n",
    "    agg_data,\n",
    "    x=\"carcat\",\n",
    "    y=\"total_income\",\n",
    "    color=\"ed\",\n",
    "    category_orders={\"carcat\": order},\n",
    "    barmode=\"stack\",\n",
    "    hover_data={\n",
    "        \"total_income\": \":,\", #show total_income in form of comma seperated\n",
    "        \"count\": True,\n",
    "        \"carcat\": False,\n",
    "    },\n",
    "    color_discrete_sequence=px.colors.qualitative.Pastel,\n",
    "    title=\"Total Income by Car Category and Education Level\",\n",
    "    height=900,\n",
    "    width=1100\n",
    ")\n",
    "\n",
    "\n",
    "fig.update_layout(\n",
    "    xaxis_title=\"Car Category\",\n",
    "    yaxis_title=\"Total Income\",\n",
    "    legend_title=\"Education Level\",\n",
    "    title_font=dict(size=18, color=\"navy\"),\n",
    "    plot_bgcolor=\"white\",\n",
    "    hovermode=\"x unified\"\n",
    ")\n",
    "\n",
    "fig.show()\n"
   ]
  }
 ],
 "metadata": {
  "kernelspec": {
   "display_name": "Python [conda env:base] *",
   "language": "python",
   "name": "conda-base-py"
  },
  "language_info": {
   "codemirror_mode": {
    "name": "ipython",
    "version": 3
   },
   "file_extension": ".py",
   "mimetype": "text/x-python",
   "name": "python",
   "nbconvert_exporter": "python",
   "pygments_lexer": "ipython3",
   "version": "3.13.5"
  }
 },
 "nbformat": 4,
 "nbformat_minor": 5
}
