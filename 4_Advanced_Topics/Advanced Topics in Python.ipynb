{
 "cells": [
  {
   "cell_type": "markdown",
   "id": "3fed1c8b-1f90-4a44-906d-baff04dc5fac",
   "metadata": {},
   "source": [
    "# Advanced Topics in Python"
   ]
  },
  {
   "cell_type": "markdown",
   "id": "e32bdc36-003d-4fba-8d8c-c266a0d0fb27",
   "metadata": {},
   "source": [
    "## Multi-Table Joins"
   ]
  },
  {
   "cell_type": "markdown",
   "id": "9279cc36-0d3c-4097-8a19-6a05b5fe2971",
   "metadata": {},
   "source": [
    "### What does it mean to “join tables”?\n",
    "\n",
    "- Use a key column to join / combine two (or more) tables into one.\n",
    "\n",
    "### Why Joins?\n",
    "- Data often lives in multiple tables (e.g., customer info in one, transactions in another).\n",
    "- To analyze or model, we need to combine them into one dataframe.\n",
    "### What does key column means?\n",
    "- A key column is a special column that exists in both tables and contains the same type of values\n",
    "- It acts as a connector that tells the computer which rows in the two tables belong together and should be matched.\n",
    "- Think of it like matching puzzle pieces: for each row in one table, we look for rows in another table with the same key value, and then put their details together into a single row."
   ]
  },
  {
   "cell_type": "markdown",
   "id": "9b24d325-f512-44aa-b4a9-21abb2dc7c7f",
   "metadata": {},
   "source": [
    "### Types of Join\n",
    "|Join Type       |Description                                                  |\n",
    "|----------------|-------------------------------------------------------------|\n",
    "|Left Join       |Keep all rows from the left table, add matches from the right|\n",
    "|Right Join      |Keep all rows from the right table, add matches from the left|\n",
    "|Inner Join      |Keep only rows where the key exists in both tables|\n",
    "|Full(Outer) Join|Keep all rows from both tables, even if unmatched|\n",
    "\n",
    "Tip: Choice of join affects your results — always check whether you might lose or duplicate rows."
   ]
  },
  {
   "cell_type": "markdown",
   "id": "a6ac7237-3840-4ea5-adfb-512946f45ca6",
   "metadata": {},
   "source": [
    "### Prepring Data"
   ]
  },
  {
   "cell_type": "code",
   "execution_count": null,
   "id": "ea10dcd7-3584-42e4-b5c1-c53807a1a840",
   "metadata": {},
   "outputs": [],
   "source": [
    "import pandas as pd\n",
    "\n",
    "students = pd.DataFrame({\n",
    "    \"student_id\": [1, 2, 3, 4, 5, 6, 7],\n",
    "    \"name\": [\"Alice\", \"Bob\", \"Charlie\", \"David\", \"Eva\", \"Frank\", \"Grace\"],\n",
    "    \"department_id\": [201, 202, 201, 202, 202, 203, None],\n",
    "    \"gender\": [\"F\", \"M\", \"M\", \"M\", \"F\", \"M\", \"F\"]\n",
    "})\n",
    "\n",
    "scores = pd.DataFrame({\n",
    "    \"student_id\": [2, 3, 5, 6, 8],\n",
    "    \"score\": [88, 92, 85, 63, 81]\n",
    "})\n",
    "\n",
    "departments = pd.DataFrame({\n",
    "    \"department_number\": [201, 202],\n",
    "    \"department_name\": [\"Statistics\", \"Biology\"]\n",
    "})\n"
   ]
  },
  {
   "cell_type": "markdown",
   "id": "8fb6fd7c-1bae-480a-ab65-6cedca84f55f",
   "metadata": {},
   "source": [
    "### Left Join\n",
    "![Left Join](left_join.png)"
   ]
  },
  {
   "cell_type": "code",
   "execution_count": null,
   "id": "a7da3a86-4030-41e6-a0a8-72a68699cae1",
   "metadata": {},
   "outputs": [],
   "source": [
    "student_score = students.merge(scores, how='left', on='student_id')\n",
    "student_score"
   ]
  },
  {
   "cell_type": "code",
   "execution_count": null,
   "id": "b1b93c92-8b9d-4390-b9a3-2a399ece3385",
   "metadata": {},
   "outputs": [],
   "source": [
    "student_dept = students.merge(departments, how='left', left_on='department_id', right_on='department_number')\n",
    "student_dept"
   ]
  },
  {
   "cell_type": "markdown",
   "id": "d1152908-2a4d-4a19-bdc3-e41a8c43d5a8",
   "metadata": {},
   "source": [
    "### Right Join\n",
    "![Right Join](right_join.png)"
   ]
  },
  {
   "cell_type": "code",
   "execution_count": null,
   "id": "5bb09e2a-e11f-4906-bc95-a7d8cec6f922",
   "metadata": {},
   "outputs": [],
   "source": [
    "student_score_right = students.merge(scores, how='right', on='student_id')\n",
    "student_score_right"
   ]
  },
  {
   "cell_type": "code",
   "execution_count": null,
   "id": "fce072f3-91d2-4657-91a9-3e7c7250f8a6",
   "metadata": {},
   "outputs": [],
   "source": [
    "student_dept_right = students.merge(departments, how='right', left_on='department_id', right_on='department_number')\n",
    "student_dept_right"
   ]
  },
  {
   "cell_type": "markdown",
   "id": "7073eb5a-63fc-41d0-8e9d-bb0bb18984dd",
   "metadata": {},
   "source": [
    "### Inner Join\n",
    "![Inner Join](inner_join.png)"
   ]
  },
  {
   "cell_type": "code",
   "execution_count": null,
   "id": "e6a32d8a-cc70-4fb4-b7d2-b497a63d32e7",
   "metadata": {},
   "outputs": [],
   "source": [
    "df_inner = students.merge(scores, how='inner', on='student_id')\n",
    "df_inner"
   ]
  },
  {
   "cell_type": "markdown",
   "id": "8d0fa7f4-e378-478f-ae98-854e0cd7c066",
   "metadata": {},
   "source": [
    "### Full(Outer) Join\n",
    "![Outer Join](full_outer_join.png)"
   ]
  },
  {
   "cell_type": "code",
   "execution_count": null,
   "id": "cff80536-9393-49a6-adf7-1ddda450c50d",
   "metadata": {},
   "outputs": [],
   "source": [
    "df_full = students.merge(scores,how='outer', on='student_id')\n",
    "df_full"
   ]
  },
  {
   "cell_type": "markdown",
   "id": "c9d39a19-6125-4ca5-a371-c7bfddb38a10",
   "metadata": {},
   "source": [
    "### Joining Multiple Tables"
   ]
  },
  {
   "cell_type": "code",
   "execution_count": null,
   "id": "b3a27c45-370e-4364-85ab-d80a9fd611da",
   "metadata": {},
   "outputs": [],
   "source": [
    "df_all = students.merge(scores, how='outer', on='student_id')\n",
    "df_all = df_all.merge(departments, how='outer', left_on='department_id', right_on='department_number')\n",
    "\n",
    "df_all"
   ]
  },
  {
   "cell_type": "markdown",
   "id": "3f2179c8-8579-45ae-9b90-4f9c0e8def8e",
   "metadata": {},
   "source": [
    "### Data Wrangling"
   ]
  },
  {
   "cell_type": "code",
   "execution_count": null,
   "id": "8c1c2593-86a9-409c-8bbe-37eb5c3e3010",
   "metadata": {},
   "outputs": [],
   "source": [
    "df_cleaned = df_all.dropna(subset=['score'])\n",
    "mean_score = df_cleaned.groupby('gender')['score'].mean().reset_index()\n",
    "mean_score"
   ]
  },
  {
   "cell_type": "markdown",
   "id": "4b27b49e-8dba-4886-b742-4d2bb5f42741",
   "metadata": {},
   "source": [
    "## About Markdown"
   ]
  },
  {
   "cell_type": "markdown",
   "id": "e78289bf-48c7-4373-84b3-1cfd6355ba83",
   "metadata": {},
   "source": [
    "Markdown allows you to blend formatted prose with code to create reproducible scientific documents that can be outputted in a HTML, PDF, and MS Word document."
   ]
  },
  {
   "cell_type": "markdown",
   "id": "dc680170-be53-43b2-9018-5cfdb58c3529",
   "metadata": {},
   "source": [
    "### Why Bother?\n",
    "1. Encourages you to document your analysis\n",
    "2. Provides a non-proprietary format that you can easily store, preserve, document with metadata, and retrieve at later dates.\n",
    "3. Reproducibility means that you can share the document with colleagues and peers to check errors or to collaborate easily. R Markdown even allows for multiple coding languages to be used in a single document.\n",
    "4. Create reports/documents that are dynamically generated from you data and can be easily revised. R Markdown documents are dynamic and an errors or issues with the coding can be made with little work on the user’s end.\n",
    "No longer do you need to re-code and re-paste"
   ]
  },
  {
   "cell_type": "markdown",
   "id": "78f903eb-c286-44a8-9da8-778873f482fc",
   "metadata": {},
   "source": [
    "### Formating Options\n",
    "The following will provide ways for you to format your text/prose within the document that you are editing"
   ]
  },
  {
   "cell_type": "code",
   "execution_count": null,
   "id": "61dba840-d190-4785-877d-11db90ab9e5d",
   "metadata": {},
   "outputs": [],
   "source": [
    "# Header 1\n",
    "## Header 2\n",
    "### Header 3\n",
    "#### Header 4\n",
    "##### Header 5\n",
    "\n",
    "# Italics - *I am italic - mamma mia*\n",
    "# Bold - ** I am bold**\n",
    "# Hyperlink - You can browse [library website here](https://library.wvu.edu/)\n",
    "# Image - ![Spongebob](spongebob.jpg)\n",
    "\n",
    "# > \"You miss 100% of the shots you do not take. - Wayne Gretsky\" - Michael Scott\n",
    "\n",
    "# Unordered lists:\n",
    "\n",
    "# -   apple\n",
    "# -   pear\n",
    "# -   orange\n",
    "# -   bear\n",
    "  #  -   orange bear\n",
    "  #  -   apple pear\n",
    "\n",
    "# Ordered lists:\n",
    "\n",
    "# 1.  Apple\n",
    "# 2.  Pear\n",
    "# 3.  Orange Bear"
   ]
  }
 ],
 "metadata": {
  "kernelspec": {
   "display_name": "Python [conda env:base] *",
   "language": "python",
   "name": "conda-base-py"
  },
  "language_info": {
   "codemirror_mode": {
    "name": "ipython",
    "version": 3
   },
   "file_extension": ".py",
   "mimetype": "text/x-python",
   "name": "python",
   "nbconvert_exporter": "python",
   "pygments_lexer": "ipython3",
   "version": "3.13.5"
  }
 },
 "nbformat": 4,
 "nbformat_minor": 5
}
