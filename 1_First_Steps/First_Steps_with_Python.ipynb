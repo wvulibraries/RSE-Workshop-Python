{
 "cells": [
  {
   "cell_type": "markdown",
   "id": "fd5ae4ed-a1cd-473b-8f0f-cef25ac8f798",
   "metadata": {},
   "source": [
    "<h1>First Steps with Python</h1>\n",
    "<h3>Overview</h3>\n",
    "<p>\n",
    "    <ul>\n",
    "        <li>Overview of Python, Anaconda, and Jupyter Notebooks</li>\n",
    "        <li>Data Values and interpretations</li>\n",
    "        <li>Variables, Functions, and Arguments</li>\n",
    "        <li>Comparisons, Conditional, and Loops</li>\n",
    "        <li>Libraries</li>\n",
    "    </ul>\n",
    "</p>"
   ]
  },
  {
   "cell_type": "markdown",
   "id": "63077f3a-0448-434a-bab2-509b0ddf5020",
   "metadata": {},
   "source": [
    "<h3>Resources</h3>\n",
    "<p>\n",
    "    <ul>\n",
    "        <li>O'Reilly Learning Platform: <a href = \"https://databases.lib.wvu.edu/connect/1540334373\" target =\"_blank\">https://databases.lib.wvu.edu/connect/1540334373</a></li>\n",
    "    </ul>\n",
    "</p>"
   ]
  },
  {
   "cell_type": "markdown",
   "id": "c845940f-9a0d-4779-b7fa-63cf926933f7",
   "metadata": {},
   "source": [
    "<h2>Getting Started</h2>\n",
    "<p>\n",
    "    <ol>\n",
    "        <li>Open Anaconda Navigator</li>\n",
    "        <li>Open Jupyterlab</li>\n",
    "        <li>Using the directory on the right, select the folder you will be working in</li>\n",
    "        <li>Start a new notebook</li>\n",
    "        <li>Select the python kernel</li>\n",
    "        <li>Click on File > <strong>Save Notebook As</strong> and give the file a name</li>\n",
    "        <li>Click on File > <strong>Save Current Workspace As</strong> and save the workspace</li>\n",
    "    </ol>\n",
    "</p>"
   ]
  },
  {
   "cell_type": "markdown",
   "id": "040800b5-88d9-4c9f-8b3d-1f1b04235214",
   "metadata": {},
   "source": [
    "## Working Directory\n",
    "The working directory in Python is the folder where you are working. Hence, it’s the place (the environment) where you have to store your files of your project in order to load them or where your Python objects will be saved."
   ]
  },
  {
   "cell_type": "markdown",
   "id": "c8f44645-6de9-4e60-9b2c-fd8d3e259678",
   "metadata": {},
   "source": [
    "## Functions and Arguments\n",
    "\n",
    "### Functions:\n",
    "Like most computer software, Python allows you to run commands. Commands in Python are referred to as functions. When you install and call a new package, you will have access to more functions that you can use.\n",
    "\n",
    "These functions are ready-made tools like you would have a toolbox, and like how these different tools perform various tasks like measuring, cutting, or fixing things, different functions perform different tasks like filtering, sorting, or calculation."
   ]
  },
  {
   "cell_type": "code",
   "execution_count": null,
   "id": "bd9e79a4-7b6f-4b2f-998c-e19de2af8c81",
   "metadata": {},
   "outputs": [],
   "source": [
    "import random\n",
    "\n",
    "#random.sample() lets us randomly select a specified number of elements from a defined population.\n",
    "random.sample(population=range(1,11),k=10)"
   ]
  },
  {
   "cell_type": "markdown",
   "id": "846325f3-767f-4383-ade3-4b17ec8dd086",
   "metadata": {},
   "source": [
    "### Arguments:\n",
    "Arguments are the values and parameters that are acted on by the function. They are the information that you give to a function to tell it what to do."
   ]
  },
  {
   "cell_type": "code",
   "execution_count": null,
   "id": "74f6002e-3528-4434-8e29-e2dc947cf1d1",
   "metadata": {},
   "outputs": [],
   "source": [
    "# arguments in a function have an order. Entering information in the order will allow you to skip the argument name\n",
    "\n",
    "#Randomly select 5 numbers from the range 1 to 10\n",
    "\n",
    "random.sample(range(1,11), 5)"
   ]
  },
  {
   "cell_type": "markdown",
   "id": "e3bc05eb-10a2-4d97-ad58-3cfcf6d623d7",
   "metadata": {},
   "source": [
    "<h3>Commenting</h3>\n",
    "<p>Since use will be performing several operations in a single document and\n",
    "even in a particular code chunk, it becomes important to document what\n",
    "processes you were performing or make notes to use for yourself or\n",
    "others about your intentions.</p>\n",
    "<p>Entering a hastag (#) into your code will comment anything that comes after for one single line.</p>"
   ]
  },
  {
   "cell_type": "markdown",
   "id": "e79c398d-1091-4478-a628-300c3bdaed00",
   "metadata": {},
   "source": [
    "## Documentation\n",
    "- For every package you want to use in Python, there will be a documentation website or document. Explore these documents to see the available functions and their default arguments\n",
    "- Get help with a package, function, or argument within Python. Using help(name of function)"
   ]
  },
  {
   "cell_type": "code",
   "execution_count": null,
   "id": "a9a37354-71b5-4471-9e1e-c1baaea9d81d",
   "metadata": {},
   "outputs": [],
   "source": [
    "#Help function\n",
    "\n",
    "help(random.sample)"
   ]
  },
  {
   "cell_type": "code",
   "execution_count": null,
   "id": "0d43eed2-a184-4ffc-a315-dd03dae96592",
   "metadata": {},
   "outputs": [],
   "source": [
    "help(random.choices)"
   ]
  },
  {
   "cell_type": "code",
   "execution_count": null,
   "id": "6e03e08b-f424-4f2b-a30c-c0c37918e272",
   "metadata": {},
   "outputs": [],
   "source": [
    "#random.choices() draws a sample with replacement, meaning elements can be repeated in the result.\n",
    "random.choices(range(1, 11), k=15)"
   ]
  },
  {
   "cell_type": "markdown",
   "id": "9a46d2d3-e895-4b81-b923-a08e4cd150ec",
   "metadata": {},
   "source": [
    "## Objects\n",
    "Objects allow you to store and work on data (numbers, words, tables, and more).\n",
    "\n",
    "- numeric value:                     numValue = 400\n",
    "- character:                         chrValue = “Hello World”\n",
    "- results of running function(s)：   resultFunction = function(xxx)\n",
    "- vector：                           vecValue = [1,2,3]\n",
    "- data frame                         dfValue = pd.read_csv(\"data.csv\")"
   ]
  },
  {
   "cell_type": "markdown",
   "id": "bb383aae-4fbe-4dcf-9e7d-49321c23001b",
   "metadata": {},
   "source": [
    "## Assignment Operator\n",
    "The assignment operator (=) allows you to create an object."
   ]
  },
  {
   "cell_type": "code",
   "execution_count": null,
   "id": "3a77e26c-d475-45cc-83ba-513aeae8778a",
   "metadata": {},
   "outputs": [],
   "source": [
    "a=35\n",
    "b=45\n",
    "\n",
    "print(a)\n",
    "\n",
    "print(a+b)\n",
    "\n",
    "sample_result = random.sample(range(1,11), 5)\n",
    "print(sample_result)"
   ]
  },
  {
   "cell_type": "markdown",
   "id": "306c8c04-c8d2-456b-8044-30a6ef61fa54",
   "metadata": {},
   "source": [
    "## Naming Conventions\n",
    "- Use descriptive and meaningful names that indicate the purpose of the object\n",
    "- Use lowercase letters.\n",
    "- Use underscores to separate words (e.g., my_variable_name).\n",
    "- Avoid using reserved words or functions (e.g., “if,” “else,” “for,” “function”)."
   ]
  },
  {
   "cell_type": "markdown",
   "id": "2c648dc2-13a0-4259-ae4b-a4124babf803",
   "metadata": {},
   "source": [
    "<h2>Data Types in Python</h2>\n",
    "<ul>\n",
    "    <li>Integer or Float - used for numbers which can be integers (whole numbers) or real numbers (numbers with decimal points).</li>\n",
    "    <li>String – used for text, words, and strings of characters. Enclose in double (““) or single (’’) quotes. “26501”</li>\n",
    "    <li>Category – used to represent categorical data with predefined levels.</li> \n",
    "    <li>Date – used for handling dates, times, and time intervals.</li>\n",
    "    <li>Boolean –\tused for decision-making and represented by binary values, typically True or False. </li>\n",
    "</ul>"
   ]
  },
  {
   "cell_type": "code",
   "execution_count": null,
   "id": "b4ead8c0-8a65-40c0-9926-539b4cc4eb98",
   "metadata": {},
   "outputs": [],
   "source": [
    "type(4) #integer"
   ]
  },
  {
   "cell_type": "code",
   "execution_count": null,
   "id": "a666e78d-4162-4017-bd6a-1eedfcd4fc1c",
   "metadata": {},
   "outputs": [],
   "source": [
    "type(4.5673) #float"
   ]
  },
  {
   "cell_type": "code",
   "execution_count": null,
   "id": "0675836c-c28b-4266-9459-7e0ffcea436e",
   "metadata": {},
   "outputs": [],
   "source": [
    "#Type functions\n",
    "\n",
    "type(\"26501\") #string"
   ]
  },
  {
   "cell_type": "code",
   "execution_count": null,
   "id": "980dc070-c357-4e4f-a7a4-a58cba2e2319",
   "metadata": {},
   "outputs": [],
   "source": [
    "#Strings - anything entered in \"\" will be interpreted as a string\n",
    "\n",
    "hello = \"Hello World\"\n",
    "type(hello)"
   ]
  },
  {
   "cell_type": "code",
   "execution_count": null,
   "id": "0e0ae5d1-92e0-44e0-857d-186e1e879708",
   "metadata": {},
   "outputs": [],
   "source": [
    "type(True) #boolean"
   ]
  },
  {
   "cell_type": "markdown",
   "id": "95b2ff64-5639-452d-8ea2-324e524177e0",
   "metadata": {},
   "source": [
    "## Entering Data\n",
    "\n",
    "### List\n",
    "\n",
    "ordered collections of data items\n",
    "\n",
    "listSyntax = [object1, object2, object3]"
   ]
  },
  {
   "cell_type": "code",
   "execution_count": null,
   "id": "c8e23603-8411-4ac9-a320-3c1bd424890c",
   "metadata": {},
   "outputs": [],
   "source": [
    "#Lists\n",
    "\n",
    "num_list = [6, 1, 2, 5, 7, 9]\n",
    "cities = ['Morgantown', 'Charleston', 'Pittsburgh', 'New York City']"
   ]
  },
  {
   "cell_type": "code",
   "execution_count": null,
   "id": "24264e4f-02ab-424f-babf-acfcbc2d5e9e",
   "metadata": {},
   "outputs": [],
   "source": [
    "#Indexing\n",
    "#method returns the position at the first occurrence of the specified value.\n",
    "#syntax []\n",
    "\n",
    "#numbered order starts at 0\n",
    "print(num_list[0]) \n",
    "\n",
    "print(num_list[0]+10) \n",
    "\n",
    "print(cities [0]) \n",
    "\n",
    "#range\n",
    "print(cities [0:2])\n",
    "\n",
    "\n",
    "#force an error messages with print(cities[4])\n",
    "print(cities[4])\n"
   ]
  },
  {
   "cell_type": "code",
   "execution_count": null,
   "id": "bf4cb607-2dcd-4be5-a461-41e0e85f7e98",
   "metadata": {},
   "outputs": [],
   "source": [
    "cities.append('Fairmont')\n",
    "\n",
    "print(cities)"
   ]
  },
  {
   "cell_type": "code",
   "execution_count": null,
   "id": "1c334f6e-c40d-49f2-8d5e-aad8a140e549",
   "metadata": {},
   "outputs": [],
   "source": [
    "print(cities[4])\n",
    "\n",
    "print(cities[5])"
   ]
  },
  {
   "cell_type": "code",
   "execution_count": null,
   "id": "edd71be4-43d9-4523-a62f-b754ad1daa15",
   "metadata": {},
   "outputs": [],
   "source": [
    "print(num_list)\n",
    "\n",
    "num_list.extend([8,4])\n",
    "\n",
    "print(num_list)\n",
    "\n",
    "num_list.insert(1,10)\n",
    "\n",
    "print(num_list)"
   ]
  },
  {
   "cell_type": "code",
   "execution_count": null,
   "id": "d73aba35-610e-4437-98f5-2f77e2b06bf6",
   "metadata": {},
   "outputs": [],
   "source": [
    "mix_list = [1,2,3, 'hello', 'world']\n",
    "mix_list[0]+1"
   ]
  },
  {
   "cell_type": "markdown",
   "id": "97a58ca4-5702-46dc-a3a0-036a24b83e55",
   "metadata": {},
   "source": [
    "### Array\n",
    "\n",
    "ordered collections of data items of the same type\n",
    "\n",
    "provided by *numpy* library\n",
    "\n",
    "arraySyntax = np.array([object1, object2, object3])"
   ]
  },
  {
   "cell_type": "code",
   "execution_count": null,
   "id": "d85617f8-95c3-47c1-9673-48f47a2c58e3",
   "metadata": {},
   "outputs": [],
   "source": [
    "import numpy as np\n",
    "num_arr = np.array([1,2,3,4])\n",
    "\n",
    "print(num_arr[0])\n",
    "print(num_arr[0]+10)\n",
    "\n",
    "mix_arr = np.array([1,2,3,'hello','world'])\n",
    "print(mix_arr[0]+1)\n"
   ]
  },
  {
   "cell_type": "code",
   "execution_count": null,
   "id": "a1d582d5-ed7f-460f-bf6b-774a9368132d",
   "metadata": {},
   "outputs": [],
   "source": [
    "np.append(num_arr, 10)\n",
    "\n",
    "print(num_arr)"
   ]
  },
  {
   "cell_type": "code",
   "execution_count": null,
   "id": "97454462-e4ba-4933-a044-3f53f8c739c0",
   "metadata": {},
   "outputs": [],
   "source": [
    "num_arr2 = np.array([6, 8,10,12])"
   ]
  },
  {
   "cell_type": "code",
   "execution_count": null,
   "id": "8a241d3d-631b-4040-9d9b-0f3c878b88cc",
   "metadata": {},
   "outputs": [],
   "source": [
    "np.concatenate((num_arr, np.array([6, 8,10,12]) ))"
   ]
  },
  {
   "cell_type": "code",
   "execution_count": null,
   "id": "e197cd59-2f49-4838-a233-329d536edabf",
   "metadata": {},
   "outputs": [],
   "source": [
    "np.insert(num_arr, [1,3], [77,88])"
   ]
  },
  {
   "cell_type": "markdown",
   "id": "a4e890d3-e116-4d04-8862-28f6c9983960",
   "metadata": {},
   "source": [
    "### Data Frame\n",
    "\n",
    "two-dimensional sequence of data variables (columns) and observations (rows). While each variable in a data frame typically contains data of the same type, different variable can contain different data types.\n",
    "\n",
    "dataFrameSyntax = pd.DataFrame(column1, column2, column3)"
   ]
  },
  {
   "cell_type": "code",
   "execution_count": null,
   "id": "25415db7-a5d5-4fc9-a53b-58152a1971b0",
   "metadata": {},
   "outputs": [],
   "source": [
    "title = [\"Star Wars\", \"The Empire Strikes Back\", \"Return of the Jedi\"]\n",
    "year = [1977, 1980, 1983]\n",
    "length_min = [121, 124, 133]\n",
    "box_office_mil = [787, 534, 572]"
   ]
  },
  {
   "cell_type": "code",
   "execution_count": null,
   "id": "18001cbf-aeb7-4466-93c0-39ecd63b981a",
   "metadata": {},
   "outputs": [],
   "source": [
    "import pandas as pd\n",
    "\n",
    "sw_df = pd.DataFrame({\n",
    "    \"Title\": title,\n",
    "    \"Year\": year,\n",
    "    \"Length_min\": length_min,\n",
    "    \"Box_Office_mil\": box_office_mil\n",
    "})\n",
    "\n",
    "sw_df"
   ]
  },
  {
   "cell_type": "code",
   "execution_count": null,
   "id": "989326fc-418e-4d75-ba8f-706ad07b442d",
   "metadata": {},
   "outputs": [],
   "source": [
    "print(sw_df['Year'].values)\n",
    "type(sw_df['Year'].values)"
   ]
  },
  {
   "cell_type": "markdown",
   "id": "efad08b9-24e7-4918-9257-ed48dd5501b4",
   "metadata": {},
   "source": [
    "### Export the Data Frame\n",
    "Once you are done entering your data, you can export it to your working directory. The function is to_csv()\n",
    "\n",
    "\n",
    "object.to_csv(“name of file.extension”)"
   ]
  },
  {
   "cell_type": "code",
   "execution_count": null,
   "id": "2f4cd67d-e08b-4cb3-87db-6a3530c449f5",
   "metadata": {},
   "outputs": [],
   "source": [
    "sw_df.to_csv('starwars.csv')"
   ]
  },
  {
   "cell_type": "markdown",
   "id": "b8fa12f5-4a72-4eb1-82e7-c207f615a24d",
   "metadata": {},
   "source": [
    "### Individual descriptive statistics"
   ]
  },
  {
   "cell_type": "code",
   "execution_count": null,
   "id": "14983036-ea2f-43de-acf1-b45a8be50cc9",
   "metadata": {},
   "outputs": [],
   "source": [
    "# the total box office revenue\n",
    "print(sw_df['Box_Office_mil'].mean())\n",
    "\n",
    "#the mean box office revenue\n",
    "print(sw_df['Box_Office_mil'].sum())\n",
    "\n",
    "#what is the median box office revenue\n",
    "print(sw_df['Box_Office_mil'].median())\n",
    "\n",
    "# what is the standard deviation of the box office revenue\n",
    "print(sw_df['Box_Office_mil'].std())"
   ]
  },
  {
   "cell_type": "code",
   "execution_count": null,
   "id": "95191b1b-a578-4713-9c5a-04ab3cec0476",
   "metadata": {},
   "outputs": [],
   "source": [
    "title = [\"Star Wars\", \"The Empire Strikes Back\", \"Return of the Jedi\", 'movie_name']\n",
    "year = [1977, 1980, 1983, 2000]\n",
    "length_min = [121, 124, 133, 115]\n",
    "box_office_mil = [787, 534, 572,'test']"
   ]
  },
  {
   "cell_type": "code",
   "execution_count": null,
   "id": "4d596085-5b4e-4623-86af-123eefe636c5",
   "metadata": {},
   "outputs": [],
   "source": [
    "import pandas as pd\n",
    "\n",
    "sw_df = pd.DataFrame({\n",
    "    \"Title\": title,\n",
    "    \"Year\": year,\n",
    "    \"Length_min\": length_min,\n",
    "    \"Box_Office_mil\": box_office_mil\n",
    "})\n",
    "\n",
    "sw_df"
   ]
  },
  {
   "cell_type": "code",
   "execution_count": null,
   "id": "43821673-56e8-4410-b048-e78be8381892",
   "metadata": {},
   "outputs": [],
   "source": [
    "sw_df.dtypes"
   ]
  }
 ],
 "metadata": {
  "kernelspec": {
   "display_name": "Python [conda env:base] *",
   "language": "python",
   "name": "conda-base-py"
  },
  "language_info": {
   "codemirror_mode": {
    "name": "ipython",
    "version": 3
   },
   "file_extension": ".py",
   "mimetype": "text/x-python",
   "name": "python",
   "nbconvert_exporter": "python",
   "pygments_lexer": "ipython3",
   "version": "3.13.5"
  }
 },
 "nbformat": 4,
 "nbformat_minor": 5
}
